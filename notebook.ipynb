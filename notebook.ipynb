{
 "cells": [
  {
   "cell_type": "code",
   "execution_count": null,
   "metadata": {},
   "outputs": [
    {
     "data": {
      "text/plain": [
       "'mandarino.ant@gmail.com'"
      ]
     },
     "execution_count": 106,
     "metadata": {},
     "output_type": "execute_result"
    }
   ],
   "source": [
    "import numpy as np\n",
    "import pandas as pd"
   ]
  },
  {
   "cell_type": "code",
   "execution_count": 109,
   "metadata": {},
   "outputs": [],
   "source": [
    "from density_matrix_from_exp import generate_rho_rho_delta\n",
    "from deprecated.density_matrix_gen import prova"
   ]
  },
  {
   "cell_type": "code",
   "execution_count": 110,
   "metadata": {},
   "outputs": [
    {
     "data": {
      "text/html": [
       "<div>\n",
       "<style scoped>\n",
       "    .dataframe tbody tr th:only-of-type {\n",
       "        vertical-align: middle;\n",
       "    }\n",
       "\n",
       "    .dataframe tbody tr th {\n",
       "        vertical-align: top;\n",
       "    }\n",
       "\n",
       "    .dataframe thead th {\n",
       "        text-align: right;\n",
       "    }\n",
       "</style>\n",
       "<table border=\"1\" class=\"dataframe\">\n",
       "  <thead>\n",
       "    <tr style=\"text-align: right;\">\n",
       "      <th></th>\n",
       "      <th>0</th>\n",
       "      <th>1</th>\n",
       "      <th>2</th>\n",
       "      <th>3</th>\n",
       "    </tr>\n",
       "  </thead>\n",
       "  <tbody>\n",
       "    <tr>\n",
       "      <th>0</th>\n",
       "      <td>0.353091+0.000000j</td>\n",
       "      <td>0.0-0.0j</td>\n",
       "      <td>0.0-0.0j</td>\n",
       "      <td>0.323455+0.351845j</td>\n",
       "    </tr>\n",
       "    <tr>\n",
       "      <th>1</th>\n",
       "      <td>0.000000+0.000000j</td>\n",
       "      <td>0.0+0.0j</td>\n",
       "      <td>0.0+0.0j</td>\n",
       "      <td>0.000000+0.000000j</td>\n",
       "    </tr>\n",
       "    <tr>\n",
       "      <th>2</th>\n",
       "      <td>0.000000+0.000000j</td>\n",
       "      <td>0.0+0.0j</td>\n",
       "      <td>0.0+0.0j</td>\n",
       "      <td>0.000000+0.000000j</td>\n",
       "    </tr>\n",
       "    <tr>\n",
       "      <th>3</th>\n",
       "      <td>0.323455-0.351845j</td>\n",
       "      <td>0.0-0.0j</td>\n",
       "      <td>0.0-0.0j</td>\n",
       "      <td>0.646909+0.000000j</td>\n",
       "    </tr>\n",
       "  </tbody>\n",
       "</table>\n",
       "</div>"
      ],
      "text/plain": [
       "                    0         1         2                   3\n",
       "0  0.353091+0.000000j  0.0-0.0j  0.0-0.0j  0.323455+0.351845j\n",
       "1  0.000000+0.000000j  0.0+0.0j  0.0+0.0j  0.000000+0.000000j\n",
       "2  0.000000+0.000000j  0.0+0.0j  0.0+0.0j  0.000000+0.000000j\n",
       "3  0.323455-0.351845j  0.0-0.0j  0.0-0.0j  0.646909+0.000000j"
      ]
     },
     "execution_count": 110,
     "metadata": {},
     "output_type": "execute_result"
    }
   ],
   "source": [
    "# Parameters\n",
    "n = 2  # Number of qubits\n",
    "m = 2  # Truncation parameter\n",
    "delta = 0.1  # error << 1\n",
    "\n",
    "# Generate density matrix\n",
    "a_x = 1.0  # Coefficient for s_x s_x\n",
    "h_x = 0.5  # Coefficient for s_z\n",
    "\n",
    "rho_theta, rho_theta_delta = generate_rho_rho_delta(a_x, h_x, delta)\n",
    "\n",
    "import pandas as pd\n",
    "pd.DataFrame(rho_theta)"
   ]
  },
  {
   "cell_type": "code",
   "execution_count": 111,
   "metadata": {},
   "outputs": [],
   "source": [
    "# Sub/Super Quantum Fisher Information (SSQFI) bounds\n",
    "def compute_ssqfi_bounds(rho, rho_delta):\n",
    "    trace_rho_sigma = np.trace(np.dot(rho, rho_delta))\n",
    "    trace_rho2 = np.trace(np.dot(rho, rho))\n",
    "    trace_sigma2 = np.trace(np.dot(rho_delta, rho_delta))\n",
    "\n",
    "    sub_fidelity = trace_rho_sigma - np.sqrt(\n",
    "        2\n",
    "        * (\n",
    "            trace_rho_sigma**2\n",
    "            - np.trace(np.dot(np.dot(rho, rho_delta), np.dot(rho, rho_delta)))\n",
    "        )\n",
    "    )\n",
    "    super_fidelity = trace_rho_sigma + np.sqrt((1 - trace_rho2) * (1 - trace_sigma2))\n",
    "\n",
    "    # Compute SSQFI bounds\n",
    "    lower_ssqfi = 8 * (1 - super_fidelity) / (delta**2)\n",
    "    upper_ssqfi = 8 * (1 - sub_fidelity) / (delta**2)\n",
    "    return lower_ssqfi, upper_ssqfi"
   ]
  },
  {
   "cell_type": "code",
   "execution_count": 95,
   "metadata": {},
   "outputs": [
    {
     "name": "stdout",
     "output_type": "stream",
     "text": [
      "lower = 3.851993527484065,\n",
      "upper = 3.852005472479902,\n",
      "diff = (1.1944995836898897e-05)\n"
     ]
    }
   ],
   "source": [
    "i, j = compute_ssqfi_bounds(rho_theta, rho_theta_delta)\n",
    "i, j = np.real(i), np.real(j)\n",
    "print(f\"lower = {(i)},\\nupper = {(j)},\\ndiff = ({(j-i)})\")"
   ]
  },
  {
   "cell_type": "code",
   "execution_count": 104,
   "metadata": {},
   "outputs": [],
   "source": [
    "def validate_density_matrix(rho):\n",
    "    # Check Hermiticity\n",
    "    if not np.allclose(rho, rho.conj().T, atol=1e-10):\n",
    "        raise ValueError(\"Density matrix is not Hermitian.\")\n",
    "\n",
    "    # Check Trace is one\n",
    "    if not np.isclose(np.trace(rho), 1.0, atol=1e-10):\n",
    "        raise ValueError(\"Trace of density matrix is not 1.\")\n",
    "\n",
    "    # Check Positive Semi-Definiteness\n",
    "    eigvals = np.linalg.eigvalsh(rho)\n",
    "    if np.any(eigvals < -1e-10):  # Allow for small numerical errors\n",
    "        raise ValueError(\"Density matrix has negative eigenvalues.\")\n",
    "\n",
    "    # Check if pure or not\n",
    "    if np.isclose(np.trace(rho @ rho), 1.0, atol=1e-10):\n",
    "        print(\"Density matrix is pure\")\n",
    "    else:\n",
    "        print(\"Density matrix is mixed\")\n",
    "    \n",
    "    print(\"and valid.\")\n"
   ]
  },
  {
   "cell_type": "code",
   "execution_count": 105,
   "metadata": {},
   "outputs": [
    {
     "name": "stdout",
     "output_type": "stream",
     "text": [
      "Density matrix is pure\n",
      "and valid.\n",
      "Density matrix is pure\n",
      "and valid.\n"
     ]
    }
   ],
   "source": [
    "\n",
    "validate_density_matrix(rho_theta)\n",
    "validate_density_matrix(rho_theta_delta)\n"
   ]
  },
  {
   "cell_type": "code",
   "execution_count": 98,
   "metadata": {},
   "outputs": [],
   "source": [
    "def compute_ssqfi_bounds_enforced(rho, rho_delta):\n",
    "    # Validate inputs\n",
    "    #validate_density_matrix(rho)\n",
    "    #validate_density_matrix(rho_delta)\n",
    "\n",
    "    # Compute traces\n",
    "    trace_rho_sigma = np.real(np.trace(np.dot(rho, rho_delta)))\n",
    "    trace_rho2 = np.real(np.trace(np.dot(rho, rho)))\n",
    "    trace_sigma2 = np.real(np.trace(np.dot(rho_delta, rho_delta)))\n",
    "\n",
    "    # Compute fidelities\n",
    "    sub_fidelity = trace_rho_sigma - np.sqrt(\n",
    "        max(0, 2 * (\n",
    "            trace_rho_sigma**2\n",
    "            - np.real(np.trace(np.dot(np.dot(rho, rho_delta), np.dot(rho, rho_delta))))\n",
    "        ))\n",
    "    )\n",
    "    super_fidelity = trace_rho_sigma + np.sqrt(\n",
    "        max(0, (1 - trace_rho2) * (1 - trace_sigma2))\n",
    "    )\n",
    "\n",
    "    # Compute SSQFI bounds\n",
    "    lower_ssqfi = 8 * (1 - super_fidelity) / (delta**2)\n",
    "    upper_ssqfi = 8 * (1 - sub_fidelity) / (delta**2)\n",
    "\n",
    "    return lower_ssqfi, upper_ssqfi\n"
   ]
  },
  {
   "cell_type": "code",
   "execution_count": 99,
   "metadata": {},
   "outputs": [
    {
     "name": "stdout",
     "output_type": "stream",
     "text": [
      "lower = 3.8519935274840646,\n",
      "upper = 3.8520054484130197,\n",
      "diff = (1.1920928955078125e-05)\n"
     ]
    }
   ],
   "source": [
    "i, j = compute_ssqfi_bounds_enforced(rho_theta, rho_theta_delta)\n",
    "print(f\"lower = {i},\\nupper = {j},\\ndiff = ({j-i})\")"
   ]
  }
 ],
 "metadata": {
  "kernelspec": {
   "display_name": "space",
   "language": "python",
   "name": "python3"
  },
  "language_info": {
   "codemirror_mode": {
    "name": "ipython",
    "version": 3
   },
   "file_extension": ".py",
   "mimetype": "text/x-python",
   "name": "python",
   "nbconvert_exporter": "python",
   "pygments_lexer": "ipython3",
   "version": "3.12.7"
  }
 },
 "nbformat": 4,
 "nbformat_minor": 2
}
