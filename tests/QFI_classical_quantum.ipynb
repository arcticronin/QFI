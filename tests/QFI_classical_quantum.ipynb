{
 "cells": [
  {
   "cell_type": "code",
   "execution_count": 35,
   "metadata": {},
   "outputs": [],
   "source": [
    "import sys\n",
    "import os\n",
    "import numpy as np\n",
    "import time\n",
    "# Add the parent folder to sys.path\n",
    "sys.path.insert(0, os.path.abspath(os.path.join(os.getcwd(), '..')))\n",
    "\n",
    "import pandas as pd\n",
    "import density_generator\n",
    "import numpy as np\n",
    "import matplotlib.pyplot as plt\n",
    "import qutip\n",
    "import importlib\n",
    "import helper_functions\n",
    "import classicalQFI\n",
    "import classical_pipeline\n",
    "import quantum_pipeline\n",
    "import quantum_subroutines_pennylane\n",
    "import vqfe_subroutine\n",
    "import pennylane as qml\n",
    "import circuit_generator\n",
    "from scipy.linalg import eigh\n",
    "#from pennylane import numpy as np\n",
    "\n",
    "from random import randint\n",
    "importlib.reload(density_generator)\n",
    "importlib.reload(helper_functions)\n",
    "importlib.reload(quantum_subroutines_pennylane)\n",
    "importlib.reload(vqfe_subroutine)\n",
    "importlib.reload(circuit_generator)\n",
    "importlib.reload(classicalQFI)\n",
    "importlib.reload(classical_pipeline)\n",
    "importlib.reload(quantum_pipeline)\n",
    "\n",
    "pass;"
   ]
  },
  {
   "cell_type": "code",
   "execution_count": 30,
   "metadata": {},
   "outputs": [
    {
     "name": "stdout",
     "output_type": "stream",
     "text": [
      "N = 3  starting number of qubits, before tracing out\n",
      "n = 2  final number of qubits\n",
      "trace_out_indices = [1]\n",
      "J = 1\n",
      "h_x = 0.5\n",
      "delta_h_x = 0.1\n",
      "delta = 0.5\n",
      "m = 1\n",
      "trotter_steps_K = 3\n",
      "trotter_order = 1\n"
     ]
    }
   ],
   "source": [
    "N=3\n",
    "n=2\n",
    "trace_out_indices = np.random.choice(range(N), size= N - n, replace=False)\n",
    "time_t = 1.0\n",
    "J=1\n",
    "delta=0.5\n",
    "delta_h_x=0.1\n",
    "\n",
    "h_x=0.5\n",
    "m=1\n",
    "# initial_state=None\n",
    "DEBUG=False\n",
    "derivative_delta=1e-3\n",
    "trotter_steps_K = 3\n",
    "trotter_order = 1\n",
    "print(\"N =\",N, \" starting number of qubits, before tracing out\")\n",
    "print(\"n =\",n,\" final number of qubits\")\n",
    "print(\"trace_out_indices =\",trace_out_indices)\n",
    "print(\"J =\",J)\n",
    "#print(\"h_z =\",h_z)\n",
    "print(\"h_x =\",h_x)\n",
    "print(\"delta_h_x =\",delta_h_x)\n",
    "print(\"delta =\",delta)\n",
    "print(\"m =\",m)\n",
    "#print(\"DEBUG is set to: \",DEBUG)\n",
    "print(\"trotter_steps_K =\",trotter_steps_K)\n",
    "print(\"trotter_order =\",trotter_order)"
   ]
  },
  {
   "cell_type": "code",
   "execution_count": 36,
   "metadata": {},
   "outputs": [
    {
     "name": "stdout",
     "output_type": "stream",
     "text": [
      "\n",
      "--- Simulation Parameters ---\n",
      "N (initial total qubits): 3\n",
      "n (final subsystem qubits): 2\n",
      "trace_out_indices: [1]\n",
      "J: 1\n",
      "h_x: 0.5\n",
      "delta_h_x (physical perturbation AND QFI formula delta): 0.1\n",
      "m (number of measurements): 1\n",
      "trotter_steps_K: 3\n",
      "trotter_order: 1\n",
      "---------------------------\n",
      "\n",
      "\n",
      "--- Computed Results ---\n",
      "Truncated Fidelity (F_trunc): 0.9080696176323652\n",
      "Generalized Fidelity (F_star): 0.9961519732719335\n",
      "QFI Lower Bound (from F_star): 3.0784213824532\n",
      "QFI Upper Bound (from F_trunc): 73.54430589410786\n",
      "------------------------\n",
      "\n"
     ]
    },
    {
     "data": {
      "text/plain": [
       "{'fidelity_truncated': 0.9080696176323652,\n",
       " 'fidelity_truncated_generalized': 0.9961519732719335,\n",
       " 'lower_tqfi': 3.0784213824532,\n",
       " 'upper_tqfi': 73.54430589410786}"
      ]
     },
     "execution_count": 36,
     "metadata": {},
     "output_type": "execute_result"
    }
   ],
   "source": [
    "quantum_pipeline.main(\n",
    "        N=N,\n",
    "        n=n,\n",
    "        time_t=time_t,\n",
    "        J=J,\n",
    "        delta_h_x=delta_h_x,\n",
    "        h_x=h_x,\n",
    "        m=m,\n",
    "        DEBUG=False,\n",
    "        trotter_steps_K=trotter_steps_K,\n",
    "        trotter_order=trotter_order,\n",
    "        trace_out_indices=trace_out_indices,\n",
    "    )"
   ]
  },
  {
   "cell_type": "code",
   "execution_count": 38,
   "metadata": {},
   "outputs": [
    {
     "data": {
      "text/plain": [
       "{'fidelity_truncated': 0.9341288118268932,\n",
       " 'fidelity_truncated_generalized': (0.9964034758143312-4.406650924627542e-18j),\n",
       " 'correction_term': (0.06227466398743796-4.406650924627542e-18j),\n",
       " 'fidelity_true': 0.9928552139311179678,\n",
       " 'fidelity_pennylane': 0.9855545500607531,\n",
       " 'lower_tqfi': (2.8772193485350424+3.525320739702033e-15j),\n",
       " 'upper_tqfi': 52.69695053848541,\n",
       " 'qfi_fidelity': 5.7158288551056246614,\n",
       " 'sub_qfi_bound': 2.7843339728399026,\n",
       " 'super_qfi_bound': (52.69694913586197+1.4026236318026753e-06j),\n",
       " 'H_delta': (2.8772193485350424+3.525320739702033e-15j),\n",
       " 'J_delta': (52.69694913586197+1.4026236318026753e-06j),\n",
       " 'uhlmann_fidelity': 0.9927509931233266,\n",
       " 'qfi_from_SLD': 0.0}"
      ]
     },
     "execution_count": 38,
     "metadata": {},
     "output_type": "execute_result"
    }
   ],
   "source": [
    "classical_pipeline.main(\n",
    "        N=N,\n",
    "        n=n,\n",
    "        J=J,\n",
    "        delta=delta_h_x,\n",
    "        h_x=h_x,\n",
    "        m=m,\n",
    "        DEBUG=False,\n",
    "        derivative_delta=derivative_delta,\n",
    "        trace_out_indices=trace_out_indices,\n",
    "        SLD = True,\n",
    "    )"
   ]
  },
  {
   "cell_type": "code",
   "execution_count": null,
   "metadata": {},
   "outputs": [],
   "source": []
  }
 ],
 "metadata": {
  "kernelspec": {
   "display_name": "space",
   "language": "python",
   "name": "python3"
  },
  "language_info": {
   "codemirror_mode": {
    "name": "ipython",
    "version": 3
   },
   "file_extension": ".py",
   "mimetype": "text/x-python",
   "name": "python",
   "nbconvert_exporter": "python",
   "pygments_lexer": "ipython3",
   "version": "3.12.7"
  }
 },
 "nbformat": 4,
 "nbformat_minor": 2
}
