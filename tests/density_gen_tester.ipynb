{
 "cells": [
  {
   "cell_type": "code",
   "execution_count": 1,
   "metadata": {},
   "outputs": [
    {
     "data": {
      "text/plain": [
       "<module 'helper_functions' from '/home/ronin/Dev/space/QFI/helper_functions.py'>"
      ]
     },
     "execution_count": 1,
     "metadata": {},
     "output_type": "execute_result"
    }
   ],
   "source": [
    "import sys\n",
    "import os\n",
    "import numpy as np\n",
    "import time\n",
    "# Add the parent folder to sys.path\n",
    "sys.path.insert(0, os.path.abspath(os.path.join(os.getcwd(), '..')))\n",
    "\n",
    "import pandas as pd\n",
    "import density_generator\n",
    "import numpy as np\n",
    "import matplotlib.pyplot as plt\n",
    "import qutip\n",
    "import importlib\n",
    "import helper_functions\n",
    "from random import randint\n",
    "importlib.reload(density_generator)\n",
    "importlib.reload(helper_functions)\n"
   ]
  },
  {
   "cell_type": "code",
   "execution_count": 2,
   "metadata": {},
   "outputs": [],
   "source": [
    "# domande:\n",
    "# 1) matruce densità è hermitiana?\n",
    "# 2) matrice densità è semdef positiva?\n",
    "# 3) matrice densità è traccia 1?"
   ]
  },
  {
   "cell_type": "code",
   "execution_count": 3,
   "metadata": {},
   "outputs": [
    {
     "name": "stdout",
     "output_type": "stream",
     "text": [
      "rho shape: (1024, 1024)\n",
      "trace_out_index: [3 4 8]\n",
      "purity: (0.9999999999999996-6.08461133896936e-20j)\n",
      "trace: (0.9999999999999998-4.080325855279454e-19j)\n"
     ]
    }
   ],
   "source": [
    "N = 10\n",
    "n = 7\n",
    "ket = qutip.rand_unitary(2**N)[randint(0, N-1),:]\n",
    "rho = np.outer(ket, np.conj(ket))\n",
    "\n",
    "print(f\"rho shape: {rho.shape}\")\n",
    "\n",
    "trace_out_index= np.random.choice(range(N), size= N-n, replace=False)\n",
    "\n",
    "print(f\"trace_out_index: {trace_out_index}\")\n",
    "# print purity and trace\n",
    "print(f\"purity: {np.trace(rho @ rho)}\")\n",
    "print(f\"trace: {np.trace(rho)}\")"
   ]
  },
  {
   "cell_type": "code",
   "execution_count": 3,
   "metadata": {},
   "outputs": [
    {
     "name": "stdout",
     "output_type": "stream",
     "text": [
      "purity: (0.1338357614016369-1.1318477757685588e-19j)\n",
      "trace: (1-4.605521209425546e-19j)\n"
     ]
    }
   ],
   "source": [
    "v = helper_functions.trace_out(\n",
    "    rho= rho,\n",
    "    trace_out_index= trace_out_index)# it returns a matrix\n",
    "v.shape\n",
    "type(v)\n",
    "# print purity and trace\n",
    "print(f\"purity: {np.trace(v @ v)}\")\n",
    "print(f\"trace: {np.trace(v)}\")"
   ]
  },
  {
   "cell_type": "code",
   "execution_count": null,
   "metadata": {},
   "outputs": [
    {
     "name": "stdout",
     "output_type": "stream",
     "text": [
      "is posdef? :  False\n",
      "is hermitian? : True\n"
     ]
    }
   ],
   "source": [
    "print(\"is posdef? : \", np.all(np.linalg.eigvals(v) >= 0)) ## non posdef!!!\n",
    "print(\"is hermitian? :\",np.allclose(v, np.conj(v.T))) ## hermitiana)"
   ]
  },
  {
   "cell_type": "code",
   "execution_count": 40,
   "metadata": {},
   "outputs": [
    {
     "name": "stdout",
     "output_type": "stream",
     "text": [
      "Dimension of the Hilbert space: 128\n",
      "Initial state type: <class 'numpy.ndarray'> | initial_state: [[ 4.88180636e-03+9.19926970e-21j  9.63953828e-05-5.35045927e-05j\n",
      "   2.03148894e-03+2.16552308e-03j ...  1.27426329e-03-2.49581019e-03j\n",
      "  -6.94620223e-04+9.55472638e-04j  1.08131551e-03-1.15832697e-03j]\n",
      " [ 9.63953828e-05+5.35045927e-05j  6.56139148e-03+3.27370014e-20j\n",
      "  -7.88299463e-04-1.47931690e-03j ... -2.15887824e-04+4.83966509e-04j\n",
      "  -3.07689965e-03+8.23066438e-04j -1.77187790e-03-1.09248366e-03j]\n",
      " [ 2.03148894e-03-2.16552308e-03j -7.88299463e-04+1.47931690e-03j\n",
      "   8.91602430e-03-1.25868926e-20j ... -2.33956936e-03-4.85335835e-04j\n",
      "   3.03929269e-03-1.61397558e-03j -1.99610604e-04-1.38643485e-03j]\n",
      " ...\n",
      " [ 1.27426329e-03+2.49581019e-03j -2.15887824e-04-4.83966509e-04j\n",
      "  -2.33956936e-03+4.85335835e-04j ...  4.03275334e-03-2.25575259e-20j\n",
      "   1.14418986e-03+7.33251374e-04j  2.63250676e-03+1.23421091e-03j]\n",
      " [-6.94620223e-04-9.55472638e-04j -3.07689965e-03-8.23066438e-04j\n",
      "   3.03929269e-03+1.61397558e-03j ...  1.14418986e-03-7.33251374e-04j\n",
      "   1.31352739e-02+2.81154442e-20j  2.12333944e-03+1.73259461e-03j]\n",
      " [ 1.08131551e-03+1.15832697e-03j -1.77187790e-03+1.09248366e-03j\n",
      "  -1.99610604e-04+1.38643485e-03j ...  2.63250676e-03-1.23421091e-03j\n",
      "   2.12333944e-03-1.73259461e-03j  7.19395247e-03-6.38489113e-20j]]\n",
      "Initial state provided as density matrix.\n"
     ]
    }
   ],
   "source": [
    "a_x=1\n",
    "h_z=0.1\n",
    "delta=0.01\n",
    "m=1\n",
    "trace_out_index=[np.floor(n/2).astype(int)]\n",
    "trace_out_index=[0]\n",
    "derivative_delta=None\n",
    "model = density_generator.IsingQuantumState(\n",
    "        n=n, a_x=a_x, h_z=h_z, trace_out_index=trace_out_index, initial_state=v, DEBUG=True)"
   ]
  },
  {
   "cell_type": "code",
   "execution_count": 41,
   "metadata": {},
   "outputs": [
    {
     "name": "stdout",
     "output_type": "stream",
     "text": [
      "(128, 128)\n",
      "(128, 128)\n"
     ]
    }
   ],
   "source": [
    "print(v.shape)\n",
    "rho = model.generate_density_matrix()\n",
    "print(rho.shape)"
   ]
  },
  {
   "cell_type": "code",
   "execution_count": 42,
   "metadata": {},
   "outputs": [
    {
     "data": {
      "text/plain": [
       "7.0"
      ]
     },
     "execution_count": 42,
     "metadata": {},
     "output_type": "execute_result"
    }
   ],
   "source": [
    "np.log2(rho.shape[0])"
   ]
  },
  {
   "cell_type": "code",
   "execution_count": 43,
   "metadata": {},
   "outputs": [
    {
     "name": "stdout",
     "output_type": "stream",
     "text": [
      "purity: (0.13136135336332533+6.541741330763368e-19j)\n"
     ]
    }
   ],
   "source": [
    "purity = np.trace(rho @ rho)\n",
    "print(f\"purity: {purity}\")"
   ]
  },
  {
   "cell_type": "code",
   "execution_count": 44,
   "metadata": {},
   "outputs": [
    {
     "name": "stdout",
     "output_type": "stream",
     "text": [
      "purity: (0.13136135336332533+6.541741330763368e-19j)\n",
      "Participation Ratio: 7.61258904842548\n"
     ]
    }
   ],
   "source": [
    "\n",
    "participation_ratio = 1 / purity\n",
    "print(f\"purity: {purity}\")\n",
    "print(\"Participation Ratio:\", np.real(participation_ratio))"
   ]
  },
  {
   "cell_type": "code",
   "execution_count": null,
   "metadata": {},
   "outputs": [],
   "source": []
  },
  {
   "cell_type": "code",
   "execution_count": 79,
   "metadata": {},
   "outputs": [
    {
     "name": "stdout",
     "output_type": "stream",
     "text": [
      "simulatin: Haar\n",
      "Dimension of the Hilbert space: 128\n",
      "Initial state type: <class 'numpy.ndarray'> | initial_state: [[ 8.66342272e-03+5.99474184e-20j  1.41584503e-04-3.83842264e-03j\n",
      "  -2.67127849e-03-1.88034220e-03j ... -5.90980788e-04+2.25990250e-03j\n",
      "  -3.53217502e-03-1.17764178e-03j  3.33148922e-05+2.66959027e-03j]\n",
      " [ 1.41584503e-04+3.83842264e-03j  4.39869423e-03-2.32866003e-20j\n",
      "   2.39790080e-04-5.26526706e-04j ... -9.70506102e-04-9.80771889e-05j\n",
      "  -1.10726377e-04-3.86364916e-03j -2.77781015e-03+1.77297009e-03j]\n",
      " [-2.67127849e-03+1.88034220e-03j  2.39790080e-04+5.26526706e-04j\n",
      "   1.22914334e-02-1.17796033e-19j ... -2.43560372e-03-3.18409350e-03j\n",
      "  -5.26912875e-04+3.15607582e-03j -2.19992394e-03+1.08060586e-03j]\n",
      " ...\n",
      " [-5.90980788e-04-2.25990250e-03j -9.70506102e-04+9.80771889e-05j\n",
      "  -2.43560372e-03+3.18409350e-03j ...  3.32653128e-03+1.33754804e-20j\n",
      "   5.35133723e-04-1.80237264e-04j  1.60913450e-03+7.13734871e-04j]\n",
      " [-3.53217502e-03+1.17764178e-03j -1.10726377e-04+3.86364916e-03j\n",
      "  -5.26912875e-04-3.15607582e-03j ...  5.35133723e-04+1.80237264e-04j\n",
      "   1.07397074e-02-8.53537332e-20j -3.31590709e-03-2.78573914e-03j]\n",
      " [ 3.33148922e-05-2.66959027e-03j -2.77781015e-03-1.77297009e-03j\n",
      "  -2.19992394e-03-1.08060586e-03j ...  1.60913450e-03-7.13734871e-04j\n",
      "  -3.31590709e-03+2.78573914e-03j  9.32508546e-03-5.92172941e-20j]]\n",
      "Initial state provided as density matrix.\n",
      "simulatin: Random_unitary\n",
      "Dimension of the Hilbert space: 128\n",
      "Initial state type: <class 'numpy.ndarray'> | initial_state: [[ 7.32099504e-03+4.01357662e-20j -2.19232417e-03-2.72813994e-03j\n",
      "  -1.19186772e-03+9.97948283e-05j ... -5.34053099e-05+3.09742319e-03j\n",
      "   2.15112598e-03-5.98100137e-04j -4.65297970e-04-1.42294090e-03j]\n",
      " [-2.19232417e-03+2.72813994e-03j  1.32091658e-02-1.71733161e-20j\n",
      "  -1.83577979e-03+3.11699710e-03j ... -1.28975663e-03+2.90463477e-03j\n",
      "  -2.32168856e-03+1.51107781e-03j  1.43961080e-06-7.64675452e-04j]\n",
      " [-1.19186772e-03-9.97948283e-05j -1.83577979e-03-3.11699710e-03j\n",
      "   8.70543054e-03+9.04420729e-20j ...  3.79208441e-03-1.89921341e-03j\n",
      "   5.93343416e-05+2.65518561e-03j -4.54924787e-05+3.50064864e-03j]\n",
      " ...\n",
      " [-5.34053099e-05-3.09742319e-03j -1.28975663e-03-2.90463477e-03j\n",
      "   3.79208441e-03+1.89921341e-03j ...  1.00256457e-02+7.95447849e-20j\n",
      "   1.60149124e-03+2.86754691e-03j  4.54961278e-04+4.92640679e-04j]\n",
      " [ 2.15112598e-03+5.98100137e-04j -2.32168856e-03-1.51107781e-03j\n",
      "   5.93343416e-05-2.65518561e-03j ...  1.60149124e-03-2.86754691e-03j\n",
      "   4.48396733e-03-2.66558852e-20j  1.88148341e-03+5.03170087e-04j]\n",
      " [-4.65297970e-04+1.42294090e-03j  1.43961080e-06+7.64675452e-04j\n",
      "  -4.54924787e-05-3.50064864e-03j ...  4.54961278e-04-4.92640679e-04j\n",
      "   1.88148341e-03-5.03170087e-04j  9.24223563e-03-1.78739108e-20j]]\n",
      "Initial state provided as density matrix.\n",
      "simulatin: qutip\n",
      "Dimension of the Hilbert space: 128\n",
      "Initial state type: <class 'numpy.ndarray'> | initial_state: [[ 4.31213065e-03+4.31384415e-20j -1.38286804e-03+1.02631249e-03j\n",
      "   7.86758156e-04+1.82483746e-03j ... -6.52066358e-04-4.48220139e-04j\n",
      "   8.13152737e-04+7.84375058e-04j  2.21769209e-03-1.25867879e-03j]\n",
      " [-1.38286804e-03-1.02631249e-03j  9.17420356e-03+3.78004190e-20j\n",
      "   1.73645994e-03-3.54887412e-04j ... -2.43621665e-03+3.56695416e-03j\n",
      "  -1.74927199e-03-8.10614061e-04j -1.75011232e-03+7.98822101e-04j]\n",
      " [ 7.86758156e-04-1.82483746e-03j  1.73645994e-03+3.54887412e-04j\n",
      "   6.32450569e-03+3.55348991e-20j ...  4.07178642e-06-8.26973958e-05j\n",
      "  -2.84724891e-03-2.04217970e-03j -4.33162386e-04+4.20337293e-04j]\n",
      " ...\n",
      " [-6.52066358e-04+4.48220139e-04j -2.43621665e-03-3.56695416e-03j\n",
      "   4.07178642e-06+8.26973958e-05j ...  3.08500013e-03-1.35945842e-20j\n",
      "   6.24666372e-04-2.47155184e-04j  3.56919550e-04-3.47871635e-04j]\n",
      " [ 8.13152737e-04-7.84375058e-04j -1.74927199e-03+8.10614061e-04j\n",
      "  -2.84724891e-03+2.04217970e-03j ...  6.24666372e-04+2.47155184e-04j\n",
      "   5.28218061e-03-3.33450444e-20j  4.94037564e-04-3.61024553e-03j]\n",
      " [ 2.21769209e-03+1.25867879e-03j -1.75011232e-03-7.98822101e-04j\n",
      "  -4.33162386e-04-4.20337293e-04j ...  3.56919550e-04+3.47871635e-04j\n",
      "   4.94037564e-04+3.61024553e-03j  6.48160477e-03-4.36389488e-20j]]\n",
      "Initial state provided as density matrix.\n",
      "Average execution time (Haar): 0.22449 seconds\n",
      "Average execution time (Random Unitary): 0.52528 seconds\n",
      "Average execution time (qutip): 0.59807 seconds\n"
     ]
    }
   ],
   "source": [
    "iters = 100\n",
    "pr_h = np.zeros(iters)\n",
    "pr_u = np.zeros(iters)\n",
    "pr_q = np.zeros(iters)\n",
    "N = 10\n",
    "n = 7\n",
    "\n",
    "###\n",
    "a_x = 1\n",
    "h_z = 0.1\n",
    "delta = 0.01\n",
    "m = 1\n",
    "derivative_delta = None\n",
    "###\n",
    "\n",
    "# To track time\n",
    "times_haar = []\n",
    "times_unitary = []\n",
    "times_qutip = []\n",
    "\n",
    "for mode in [\"Haar\", \"Random_unitary\", \"qutip\"]:\n",
    "    print(f\"simulatin: {mode}\")\n",
    "    \n",
    "    DEBUG = True\n",
    "\n",
    "    for i in range(iters):\n",
    "        if i >= 1:\n",
    "            DEBUG = False\n",
    "        \n",
    "        start_time = time.time()\n",
    "\n",
    "        if mode == \"Haar\":\n",
    "            ket = random_haar_ket(2**N)\n",
    "        if mode == \"Random_unitary\":\n",
    "            ket = qutip.rand_unitary(2**N)[randint(0, N-1),:]\n",
    "        if mode == \"qutip\":\n",
    "            ket = qutip.rand_ket(2**N, distribution=\"haar\").full()\n",
    "        \n",
    "        rho = np.outer(ket, np.conj(ket))\n",
    "\n",
    "        trace_out_index = np.random.choice(range(N), size=N - n, replace=False)\n",
    "\n",
    "        v = trace_out(\n",
    "            rho=rho,\n",
    "            trace_out_index=trace_out_index\n",
    "        )\n",
    "\n",
    "        # Check properties of the reduced state\n",
    "        is_posdef = np.all(np.linalg.eigvals(v) >= 0)\n",
    "        is_hermitian = np.allclose(v, np.conj(v.T))\n",
    "\n",
    "        # Generate new density matrix using Ising model\n",
    "        model = IsingQuantumState(\n",
    "            n=n, a_x=a_x, h_z=h_z, trace_out_index=[], initial_state=v, DEBUG=DEBUG\n",
    "        )\n",
    "        rho = model.generate_density_matrix()\n",
    "\n",
    "        # Calculate purity and participation ratio\n",
    "        purity = np.trace(rho @ rho)\n",
    "        participation_ratio = 1 / purity\n",
    "\n",
    "        if mode == \"Haar\":\n",
    "            pr_h[i] = np.real(participation_ratio)\n",
    "            times_haar.append(time.time() - start_time)\n",
    "        if mode == \"Random_unitary\":\n",
    "            pr_u[i] = np.real(participation_ratio)\n",
    "            times_unitary.append(time.time() - start_time)\n",
    "        if mode == \"qutip\":\n",
    "            pr_q[i] = np.real(participation_ratio)\n",
    "            times_qutip.append(time.time() - start_time)\n",
    "        \n",
    "\n",
    "# Compute average execution times\n",
    "avg_time_haar = np.mean(times_haar)\n",
    "avg_time_unitary = np.mean(times_unitary)\n",
    "avg_time_qutip = np.mean(times_qutip)\n",
    "\n",
    "print(f\"Average execution time (Haar): {avg_time_haar:.5f} seconds\")\n",
    "print(f\"Average execution time (Random Unitary): {avg_time_unitary:.5f} seconds\")\n",
    "print(f\"Average execution time (qutip): {avg_time_qutip:.5f} seconds\")\n"
   ]
  },
  {
   "cell_type": "code",
   "execution_count": 84,
   "metadata": {},
   "outputs": [
    {
     "name": "stdout",
     "output_type": "stream",
     "text": [
      "Average execution time (Haar): 0.22449 seconds\n",
      "Average execution time (Random Unitary): 0.52528 seconds\n",
      "Average execution time (qutip): 0.59807 seconds\n"
     ]
    },
    {
     "data": {
      "image/png": "[encoded data removed]",
      "text/plain": [
       "<Figure size 800x500 with 1 Axes>"
      ]
     },
     "metadata": {},
     "output_type": "display_data"
    }
   ],
   "source": [
    "print(f\"Average execution time (Haar): {avg_time_haar:.5f} seconds\")\n",
    "print(f\"Average execution time (Random Unitary): {avg_time_unitary:.5f} seconds\")\n",
    "print(f\"Average execution time (qutip): {avg_time_qutip:.5f} seconds\")\n",
    "\n",
    "# Data for boxplot\n",
    "data = [pr_h, pr_u, pr_q]\n",
    "\n",
    "# Create boxplot\n",
    "plt.figure(figsize=(8, 5))\n",
    "plt.boxplot(data, tick_labels=['Haar', 'Random Unitary', 'qutip'])\n",
    "\n",
    "# Add labels and title\n",
    "plt.ylabel('Participation Ratio')\n",
    "plt.title('Comparison of Participation Ratio')\n",
    "\n",
    "# Show the plot\n",
    "plt.show()"
   ]
  },
  {
   "cell_type": "code",
   "execution_count": 66,
   "metadata": {},
   "outputs": [
    {
     "name": "stdout",
     "output_type": "stream",
     "text": [
      "n = 7, trace_out = 3\n"
     ]
    },
    {
     "data": {
      "text/plain": [
       "mean    7.537303\n",
       "std     0.071744\n",
       "min     7.339513\n",
       "25%     7.504990\n",
       "50%     7.540644\n",
       "75%     7.582169\n",
       "max     7.725921\n",
       "Name: 0, dtype: float64"
      ]
     },
     "execution_count": 66,
     "metadata": {},
     "output_type": "execute_result"
    }
   ],
   "source": [
    "import pandas as pd\n",
    "print(f\"n = {n}, trace_out = {len(trace_out_index)}\")\n",
    "pd.DataFrame(pr).describe()[0][1:]"
   ]
  },
  {
   "cell_type": "code",
   "execution_count": null,
   "metadata": {},
   "outputs": [],
   "source": [
    "#### taken from a matrix U:\n",
    "# n = 7, trace_out = 3\n",
    "# mean    7.535997\n",
    "# std     0.071645\n",
    "# min     7.288864\n",
    "# 25%     7.495796\n",
    "# 50%     7.541543\n",
    "# 75%     7.582233\n",
    "# max     7.674643\n",
    "# Name: 0, dtype: float64\n",
    "\n",
    "# Haaar\n"
   ]
  },
  {
   "cell_type": "code",
   "execution_count": null,
   "metadata": {},
   "outputs": [
    {
     "name": "stdout",
     "output_type": "stream",
     "text": [
      "Participation Ratio Mixed: 1.0001193421284886\n"
     ]
    }
   ],
   "source": [
    "rho, rho_delta = model.generate_mixed(delta=0)\n",
    "purity_mixed = np.trace(rho @ rho)\n",
    "participation_ratio_mixed = 1 / purity_mixed\n",
    "print(\"Participation Ratio Mixed:\", np.real(participation_ratio_mixed))"
   ]
  },
  {
   "cell_type": "code",
   "execution_count": null,
   "metadata": {},
   "outputs": [
    {
     "data": {
      "text/plain": [
       "array([[0.02699745+1.45438649e-20j, 0.02349061-2.43702610e-03j,\n",
       "        0.02485671+4.20757027e-04j, ..., 0.01691437+6.15203578e-04j,\n",
       "        0.01786892+3.09724792e-03j, 0.01559426+1.50132272e-03j],\n",
       "       [0.02349061+2.43702610e-03j, 0.02065928-1.18931745e-19j,\n",
       "        0.02158996+2.60988712e-03j, ..., 0.01466175+2.06213118e-03j,\n",
       "        0.01526825+4.30793538e-03j, 0.01343312+2.71398230e-03j],\n",
       "       [0.02485671-4.20757027e-04j, 0.02158996-2.60988712e-03j,\n",
       "        0.02289228-1.82565166e-19j, ..., 0.01558275+3.02809819e-04j,\n",
       "        0.01650029+2.57316622e-03j, 0.01438112+1.13923914e-03j],\n",
       "       ...,\n",
       "       [0.01691437-6.15203578e-04j, 0.01466175-2.06213118e-03j,\n",
       "        0.01558275-3.02809819e-04j, ..., 0.01061358+8.57220503e-20j,\n",
       "        0.01126833+1.53364071e-03j, 0.00980651+5.85384033e-04j],\n",
       "       [0.01786892-3.09724792e-03j, 0.01526825-4.30793538e-03j,\n",
       "        0.01650029-2.57316622e-03j, ..., 0.01126833-1.53364071e-03j,\n",
       "        0.01218507-4.01040176e-20j, 0.01049606-7.95525018e-04j],\n",
       "       [0.01559426-1.50132272e-03j, 0.01343312-2.71398230e-03j,\n",
       "        0.01438112-1.13923914e-03j, ..., 0.00980651-5.85384033e-04j,\n",
       "        0.01049606+7.95525018e-04j, 0.0090931 +3.74519840e-20j]])"
      ]
     },
     "execution_count": 11,
     "metadata": {},
     "output_type": "execute_result"
    }
   ],
   "source": [
    "rho"
   ]
  },
  {
   "cell_type": "markdown",
   "metadata": {},
   "source": [
    "# Test loop for participation ratios"
   ]
  },
  {
   "cell_type": "code",
   "execution_count": null,
   "metadata": {},
   "outputs": [
    {
     "ename": "ValueError",
     "evalue": "Invalid initial state shape: (512, 512)",
     "output_type": "error",
     "traceback": [
      "\u001b[0;31m---------------------------------------------------------------------------\u001b[0m",
      "\u001b[0;31mValueError\u001b[0m                                Traceback (most recent call last)",
      "Cell \u001b[0;32mIn[11], line 18\u001b[0m\n\u001b[1;32m     12\u001b[0m v \u001b[38;5;241m=\u001b[39m helper_functions\u001b[38;5;241m.\u001b[39mtrace_out(\n\u001b[1;32m     13\u001b[0m     rho\u001b[38;5;241m=\u001b[39m rho,\n\u001b[1;32m     14\u001b[0m     trace_out_index\u001b[38;5;241m=\u001b[39m trace_out_index)\u001b[38;5;66;03m# it returns a matrix\u001b[39;00m\n\u001b[1;32m     16\u001b[0m derivative_delta\u001b[38;5;241m=\u001b[39m\u001b[38;5;28;01mNone\u001b[39;00m\n\u001b[0;32m---> 18\u001b[0m model \u001b[38;5;241m=\u001b[39m \u001b[43mdensity_generator\u001b[49m\u001b[38;5;241;43m.\u001b[39;49m\u001b[43mIsingQuantumState\u001b[49m\u001b[43m(\u001b[49m\n\u001b[1;32m     19\u001b[0m \u001b[43m        \u001b[49m\u001b[43mn\u001b[49m\u001b[38;5;241;43m=\u001b[39;49m\u001b[43mn\u001b[49m\u001b[43m,\u001b[49m\u001b[43m \u001b[49m\u001b[43ma_x\u001b[49m\u001b[38;5;241;43m=\u001b[39;49m\u001b[43ma_x\u001b[49m\u001b[43m,\u001b[49m\u001b[43m \u001b[49m\u001b[43mh_z\u001b[49m\u001b[38;5;241;43m=\u001b[39;49m\u001b[43mh_z\u001b[49m\u001b[43m,\u001b[49m\u001b[43m \u001b[49m\u001b[43mtrace_out_index\u001b[49m\u001b[38;5;241;43m=\u001b[39;49m\u001b[43mtrace_out_index\u001b[49m\u001b[43m,\u001b[49m\u001b[43m \u001b[49m\u001b[43minitial_state\u001b[49m\u001b[38;5;241;43m=\u001b[39;49m\u001b[43mv\u001b[49m\u001b[43m,\u001b[49m\u001b[43m \u001b[49m\u001b[43mDEBUG\u001b[49m\u001b[38;5;241;43m=\u001b[39;49m\u001b[38;5;28;43;01mFalse\u001b[39;49;00m\u001b[43m)\u001b[49m\n\u001b[1;32m     21\u001b[0m rho \u001b[38;5;241m=\u001b[39m model\u001b[38;5;241m.\u001b[39mgenerate_density_matrix()\n\u001b[1;32m     22\u001b[0m purity \u001b[38;5;241m=\u001b[39m np\u001b[38;5;241m.\u001b[39mtrace(rho \u001b[38;5;241m@\u001b[39m rho)\n",
      "File \u001b[0;32m~/Dev/space/QFI/density_generator.py:61\u001b[0m, in \u001b[0;36mIsingQuantumState.__init__\u001b[0;34m(self, n, a_x, h_z, trace_out_index, initial_state, DEBUG)\u001b[0m\n\u001b[1;32m     59\u001b[0m             \u001b[38;5;28mprint\u001b[39m(\u001b[38;5;124m\"\u001b[39m\u001b[38;5;124mInitial state provided as density matrix.\u001b[39m\u001b[38;5;124m\"\u001b[39m)\n\u001b[1;32m     60\u001b[0m     \u001b[38;5;28;01melse\u001b[39;00m:\n\u001b[0;32m---> 61\u001b[0m         \u001b[38;5;28;01mraise\u001b[39;00m \u001b[38;5;167;01mValueError\u001b[39;00m(\u001b[38;5;124mf\u001b[39m\u001b[38;5;124m\"\u001b[39m\u001b[38;5;124mInvalid initial state shape: \u001b[39m\u001b[38;5;132;01m{\u001b[39;00minitial_state\u001b[38;5;241m.\u001b[39mshape\u001b[38;5;132;01m}\u001b[39;00m\u001b[38;5;124m\"\u001b[39m)\n\u001b[1;32m     63\u001b[0m \u001b[38;5;28;01melif\u001b[39;00m initial_state \u001b[38;5;241m==\u001b[39m \u001b[38;5;124m\"\u001b[39m\u001b[38;5;124m0\u001b[39m\u001b[38;5;124m\"\u001b[39m:\n\u001b[1;32m     64\u001b[0m     \u001b[38;5;66;03m# Computational basis state |0...0>\u001b[39;00m\n\u001b[1;32m     65\u001b[0m     state \u001b[38;5;241m=\u001b[39m np\u001b[38;5;241m.\u001b[39mzeros(dim, dtype\u001b[38;5;241m=\u001b[39m\u001b[38;5;28mcomplex\u001b[39m)\n",
      "\u001b[0;31mValueError\u001b[0m: Invalid initial state shape: (512, 512)"
     ]
    }
   ],
   "source": [
    "\n",
    "N = 10\n",
    "n = 7\n",
    "##########\n",
    "a_x=1\n",
    "h_z=0.1\n",
    "delta=0.01\n",
    "m=1\n",
    "###########\n",
    "\n",
    "ket = qutip.rand_unitary(2**N)[randint(0, N-1),:]\n",
    "rho = np.outer(ket, np.conj(ket))\n",
    "v = helper_functions.trace_out(\n",
    "    rho= rho,\n",
    "    trace_out_index= trace_out_index)# it returns a matrix\n",
    "\n",
    "derivative_delta=None\n",
    "\n",
    "model = density_generator.IsingQuantumState(\n",
    "        n=n, a_x=a_x, h_z=h_z, trace_out_index=trace_out_index, initial_state=v, DEBUG=False)\n",
    "\n",
    "rho = model.generate_density_matrix()\n",
    "purity = np.trace(rho @ rho)\n",
    "participation_ratio = 1 / purity"
   ]
  },
  {
   "cell_type": "code",
   "execution_count": null,
   "metadata": {},
   "outputs": [
    {
     "name": "stdout",
     "output_type": "stream",
     "text": [
      "starting simulation with n=7\n",
      "Initial state: |0...0>\n"
     ]
    },
    {
     "name": "stdout",
     "output_type": "stream",
     "text": [
      "n = 7, trace_out = [0]\n",
      "initial state = 0\n",
      "mean    1.847899\n",
      "std     0.111177\n",
      "min     1.610152\n",
      "max     1.999926\n",
      "starting simulation with n=7\n",
      "Initial state: Hadamard state\n",
      "n = 7, trace_out = [0]\n",
      "initial state = H\n",
      "mean    1.093590\n",
      "std     0.130715\n",
      "min     1.000000\n",
      "max     1.438790\n",
      "starting simulation with n=7\n",
      "Initial state: |0...0>\n",
      "n = 7, trace_out = [1]\n",
      "initial state = 0\n",
      "mean    1.748564\n",
      "std     0.165356\n",
      "min     1.432821\n",
      "max     1.941702\n",
      "starting simulation with n=7\n",
      "Initial state: Hadamard state\n",
      "n = 7, trace_out = [1]\n",
      "initial state = H\n",
      "mean    1.157523\n",
      "std     0.165441\n",
      "min     1.000000\n",
      "max     1.519151\n",
      "starting simulation with n=7\n",
      "Initial state: |0...0>\n",
      "n = 7, trace_out = [3]\n",
      "initial state = 0\n",
      "mean    1.818545\n",
      "std     0.114858\n",
      "min     1.569649\n",
      "max     1.941715\n",
      "starting simulation with n=7\n",
      "Initial state: Hadamard state\n",
      "n = 7, trace_out = [3]\n",
      "initial state = H\n",
      "mean    1.117640\n",
      "std     0.140639\n",
      "min     1.000000\n",
      "max     1.441022\n",
      "starting simulation with n=8\n",
      "Initial state: |0...0>\n",
      "n = 8, trace_out = [0, 1]\n",
      "initial state = 0\n",
      "mean    1.874953\n",
      "std     0.118214\n",
      "min     1.704774\n",
      "max     2.038033\n",
      "starting simulation with n=8\n",
      "Initial state: Hadamard state\n",
      "n = 8, trace_out = [0, 1]\n",
      "initial state = H\n",
      "mean    1.071400\n",
      "std     0.095233\n",
      "min     1.000000\n",
      "max     1.327443\n",
      "starting simulation with n=8\n",
      "Initial state: |0...0>\n",
      "n = 8, trace_out = [0, 3]\n",
      "initial state = 0\n",
      "mean    3.164763\n",
      "std     0.402903\n",
      "min     2.212476\n",
      "max     3.528730\n",
      "starting simulation with n=8\n",
      "Initial state: Hadamard state\n",
      "n = 8, trace_out = [0, 3]\n",
      "initial state = H\n",
      "mean    1.260326\n",
      "std     0.289625\n",
      "min     1.000000\n",
      "max     2.011260\n",
      "starting simulation with n=8\n",
      "Initial state: |0...0>\n",
      "n = 8, trace_out = [3, 4]\n",
      "initial state = 0\n",
      "mean    2.657792\n",
      "std     0.241845\n",
      "min     2.169290\n",
      "max     2.906222\n",
      "starting simulation with n=8\n",
      "Initial state: Hadamard state\n",
      "n = 8, trace_out = [3, 4]\n",
      "initial state = H\n",
      "mean    1.170254\n",
      "std     0.182840\n",
      "min     1.000000\n",
      "max     1.672550\n",
      "starting simulation with n=9\n",
      "Initial state: |0...0>\n",
      "n = 9, trace_out = [0, 1, 2]\n",
      "initial state = 0\n",
      "mean    1.937651\n",
      "std     0.102584\n",
      "min     1.704994\n",
      "max     2.039736\n",
      "starting simulation with n=9\n",
      "Initial state: Hadamard state\n",
      "n = 9, trace_out = [0, 1, 2]\n",
      "initial state = H\n",
      "mean    1.077986\n",
      "std     0.087368\n",
      "min     1.000000\n",
      "max     1.314887\n",
      "starting simulation with n=9\n",
      "Initial state: |0...0>\n",
      "n = 9, trace_out = [0, 4, 8]\n",
      "initial state = 0\n",
      "mean    5.914139\n",
      "std     1.017855\n",
      "min     3.704338\n",
      "max     7.247581\n",
      "starting simulation with n=9\n",
      "Initial state: Hadamard state\n",
      "n = 9, trace_out = [0, 4, 8]\n",
      "initial state = H\n",
      "mean    1.361477\n",
      "std     0.541438\n",
      "min     1.000000\n",
      "max     2.912429\n",
      "starting simulation with n=9\n",
      "Initial state: |0...0>\n",
      "n = 9, trace_out = [2, 4, 6]\n",
      "initial state = 0\n",
      "mean    5.385246\n",
      "std     1.151828\n",
      "min     3.268938\n",
      "max     6.962739\n",
      "starting simulation with n=9\n",
      "Initial state: Hadamard state\n",
      "n = 9, trace_out = [2, 4, 6]\n",
      "initial state = H\n",
      "mean    1.391357\n",
      "std     0.515576\n",
      "min     1.000000\n",
      "max     2.559299\n"
     ]
    }
   ],
   "source": [
    "N = 100\n",
    "for trace_out_index in [[0], [1], [3], [0,1], [0,3], [3,4],[0,1,2], [0,4,8], [2,4,6]]:\n",
    "    for initial_state in [\"0\", \"H\"]: \n",
    "        pr = np.zeros(N)\n",
    "        for i in range(N): \n",
    "            n= 6 + len(trace_out_index)\n",
    "            a_x=1\n",
    "            h_z= np.random.rand()\n",
    "            if i == 0:\n",
    "                DEBUG=True\n",
    "                print(f\"starting simulation with n={n}\")\n",
    "            else:\n",
    "                DEBUG=False\n",
    "            model = density_generator.IsingQuantumState(\n",
    "                    n=n, a_x=a_x, h_z=h_z, trace_out_index=trace_out_index, initial_state=initial_state, DEBUG=DEBUG\n",
    "                )\n",
    "            rho, rho_delta = model.generate_mixed(delta=0)\n",
    "            purity_mixed = np.trace(rho @ rho)\n",
    "            participation_ratio_mixed = np.real(1 / purity_mixed)\n",
    "            pr[i] = participation_ratio_mixed\n",
    "        print(f\"n = {n}, trace_out = {trace_out_index}\")\n",
    "        print(f\"initial state = {initial_state}\")\n",
    "        print(pd.DataFrame(pr).describe()[0].iloc[[1,2,3,-1]].to_string())\n",
    "        \n",
    "        "
   ]
  },
  {
   "cell_type": "code",
   "execution_count": null,
   "metadata": {},
   "outputs": [
    {
     "data": {
      "image/png": "[encoded data removed]",
      "text/plain": [
       "<Figure size 1000x500 with 1 Axes>"
      ]
     },
     "metadata": {},
     "output_type": "display_data"
    }
   ],
   "source": [
    "import matplotlib.pyplot as plt\n",
    "\n",
    "\n",
    "plt.figure(figsize=(10, 5))\n",
    "plt.bar(range(len(pr_h)), np.sort(pr_h)[::-1], color='skyblue', edgecolor='black')\n",
    "plt.xlabel('Index')\n",
    "plt.ylabel('Participation Ratio')\n",
    "plt.title(f'Participation Ratios using {n} qubits and tracing out {trace_out_index}')\n",
    "plt.grid(axis='y', linestyle='--', alpha=0.7)\n",
    "\n",
    "plt.show()"
   ]
  },
  {
   "cell_type": "code",
   "execution_count": null,
   "metadata": {},
   "outputs": [
    {
     "name": "stdout",
     "output_type": "stream",
     "text": [
      "n = 7, trace_out = [0]\n",
      "initial state = 0\n"
     ]
    },
    {
     "data": {
      "text/plain": [
       "mean    1.100878\n",
       "std     0.132848\n",
       "min     1.000000\n",
       "25%     1.002676\n",
       "50%     1.028567\n",
       "75%     1.174991\n",
       "max     1.429560\n",
       "Name: 0, dtype: float64"
      ]
     },
     "execution_count": 33,
     "metadata": {},
     "output_type": "execute_result"
    }
   ],
   "source": [
    "import pandas as pd\n",
    "print(f\"n = {n}, trace_out = {trace_out_index}\")\n",
    "print(f\"initial state = {initial_state}\")\n",
    "pd.DataFrame(pr).describe()[0][1:]"
   ]
  },
  {
   "cell_type": "code",
   "execution_count": null,
   "metadata": {},
   "outputs": [],
   "source": [
    "### Initial State: |00...00>\n",
    "\n",
    "# n = 7, trace_out = [0]\n",
    "# mean    1.100878\n",
    "# std     0.132848\n",
    "# min     1.000000\n",
    "# 25%     1.002676\n",
    "# 50%     1.028567\n",
    "# 75%     1.174991\n",
    "# max     1.429560\n",
    "\n",
    "# n = 7, trace_out = [3]\n",
    "# mean    1.135951\n",
    "# std     0.146678\n",
    "# min     1.000000\n",
    "# 25%     1.009859\n",
    "# 50%     1.082022\n",
    "# 75%     1.242946\n",
    "# max     1.444121\n",
    "\n",
    "\n",
    "\n",
    "# n = 8, trace_out = [3, 4]\n",
    "# mean\t2.672627\n",
    "# std\t0.207467\n",
    "# min\t2.204517\n",
    "# 25%\t2.556989\n",
    "# 50%\t2.711379\n",
    "# 75%\t2.851802\n",
    "# max\t2.906242\n",
    "\n",
    "\n",
    "# initial state H\n",
    "# mean    1.121885\n",
    "# std     0.133401\n",
    "# min     1.000000\n",
    "# 25%     1.009676\n",
    "# 50%     1.075430\n",
    "# 75%     1.197070\n",
    "# max     1.441204"
   ]
  },
  {
   "cell_type": "code",
   "execution_count": null,
   "metadata": {},
   "outputs": [],
   "source": [
    "import numpy as np\n",
    "\n",
    "n = 2 # Number of qubits\n",
    "dim = 2**n\n",
    "\n",
    "# Create full superposition state\n",
    "ket_plus_n = np.ones(dim, dtype=complex) / np.sqrt(dim)"
   ]
  },
  {
   "cell_type": "markdown",
   "metadata": {},
   "source": [
    "```\n",
    "starting simulation with n=7, a_x=1\n",
    "Initial state: |0...0>\n",
    "n = 7, trace_out = [0]\n",
    "initial state = 0\n",
    "mean    1.843195\n",
    "std     0.128271\n",
    "min     1.630669\n",
    "max     1.999823\n",
    "starting simulation with n=7, a_x=1\n",
    "Initial state: Hadamard state\n",
    "n = 7, trace_out = [0]\n",
    "initial state = H\n",
    "mean    1.130890\n",
    "std     0.153456\n",
    "min     1.000699\n",
    "max     1.415473\n",
    "starting simulation with n=7, a_x=1\n",
    "Initial state: |0...0>\n",
    "n = 7, trace_out = [1]\n",
    "initial state = 0\n",
    "mean    1.698045\n",
    "std     0.199671\n",
    "min     1.442247\n",
    "max     1.940088\n",
    "starting simulation with n=7, a_x=1\n",
    "Initial state: Hadamard state\n",
    "n = 7, trace_out = [1]\n",
    "initial state = H\n",
    "mean    1.074240\n",
    "std     0.087565\n",
    "min     1.000004\n",
    "max     1.283056\n",
    "starting simulation with n=7, a_x=1\n",
    "Initial state: |0...0>\n",
    "n = 7, trace_out = [3]\n",
    "initial state = 0\n",
    "mean    1.801866\n",
    "std     0.140048\n",
    "min     1.564258\n",
    "max     1.939320\n",
    "starting simulation with n=7, a_x=1\n",
    "Initial state: Hadamard state\n",
    "n = 7, trace_out = [3]\n",
    "initial state = H\n",
    "mean    1.126916\n",
    "std     0.169641\n",
    "min     1.000000\n",
    "max     1.442152\n",
    "starting simulation with n=8, a_x=1\n",
    "Initial state: |0...0>\n",
    "n = 8, trace_out = [0, 1]\n",
    "initial state = 0\n",
    "mean    1.864193\n",
    "std     0.136006\n",
    "min     1.704774\n",
    "max     2.027431\n",
    "starting simulation with n=8, a_x=1\n",
    "Initial state: Hadamard state\n",
    "n = 8, trace_out = [0, 1]\n",
    "initial state = H\n",
    "mean    1.116531\n",
    "std     0.095642\n",
    "min     1.000035\n",
    "max     1.234871\n",
    "starting simulation with n=8, a_x=1\n",
    "Initial state: |0...0>\n",
    "n = 8, trace_out = [0, 3]\n",
    "initial state = 0\n",
    "mean    3.074710\n",
    "std     0.459084\n",
    "min     2.242458\n",
    "max     3.507650\n",
    "starting simulation with n=8, a_x=1\n",
    "Initial state: Hadamard state\n",
    "n = 8, trace_out = [0, 3]\n",
    "initial state = H\n",
    "mean    1.210555\n",
    "std     0.315920\n",
    "min     1.000068\n",
    "max     2.019612\n",
    "starting simulation with n=8, a_x=1\n",
    "Initial state: |0...0>\n",
    "n = 8, trace_out = [3, 4]\n",
    "initial state = 0\n",
    "mean    2.520965\n",
    "std     0.282369\n",
    "min     2.186249\n",
    "max     2.881489\n",
    "starting simulation with n=8, a_x=1\n",
    "Initial state: Hadamard state\n",
    "n = 8, trace_out = [3, 4]\n",
    "initial state = H\n",
    "mean    1.179927\n",
    "std     0.180738\n",
    "min     1.002716\n",
    "max     1.495863\n",
    "```"
   ]
  },
  {
   "cell_type": "code",
   "execution_count": null,
   "metadata": {},
   "outputs": [
    {
     "name": "stdout",
     "output_type": "stream",
     "text": [
      "mean    1.179927\n",
      "std     0.180738\n",
      "min     1.002716\n",
      "max     1.495863\n"
     ]
    }
   ],
   "source": []
  },
  {
   "cell_type": "code",
   "execution_count": 85,
   "metadata": {},
   "outputs": [
    {
     "name": "stderr",
     "output_type": "stream",
     "text": [
      "/tmp/ipykernel_5766/2336491622.py:4: ComplexWarning: Casting complex values to real discards the imaginary part\n",
      "  x[i] = np.trace(np.outer(ket , np.conj(ket)))\n"
     ]
    }
   ],
   "source": [
    "x = np.zeros(100)\n",
    "for i in range(100):\n",
    "    ket = qutip.rand_ket(2**N, distribution=\"haar\").full()\n",
    "    x[i] = np.real(np.trace(np.outer(ket , np.conj(ket))))"
   ]
  },
  {
   "cell_type": "code",
   "execution_count": 86,
   "metadata": {},
   "outputs": [
    {
     "data": {
      "text/plain": [
       "{'whiskers': [<matplotlib.lines.Line2D at 0x7ef37fe47d40>,\n",
       "  <matplotlib.lines.Line2D at 0x7ef384a8ef60>],\n",
       " 'caps': [<matplotlib.lines.Line2D at 0x7ef384a8e5d0>,\n",
       "  <matplotlib.lines.Line2D at 0x7ef38477a480>],\n",
       " 'boxes': [<matplotlib.lines.Line2D at 0x7ef37fe46750>],\n",
       " 'medians': [<matplotlib.lines.Line2D at 0x7ef38477a840>],\n",
       " 'fliers': [<matplotlib.lines.Line2D at 0x7ef384778e90>],\n",
       " 'means': []}"
      ]
     },
     "execution_count": 86,
     "metadata": {},
     "output_type": "execute_result"
    },
    {
     "data": {
      "image/png": "[encoded data removed]",
      "text/plain": [
       "<Figure size 640x480 with 1 Axes>"
      ]
     },
     "metadata": {},
     "output_type": "display_data"
    }
   ],
   "source": [
    "plt.boxplot(x)"
   ]
  },
  {
   "cell_type": "code",
   "execution_count": null,
   "metadata": {},
   "outputs": [],
   "source": []
  }
 ],
 "metadata": {
  "kernelspec": {
   "display_name": "space",
   "language": "python",
   "name": "python3"
  },
  "language_info": {
   "codemirror_mode": {
    "name": "ipython",
    "version": 3
   },
   "file_extension": ".py",
   "mimetype": "text/x-python",
   "name": "python",
   "nbconvert_exporter": "python",
   "pygments_lexer": "ipython3",
   "version": "3.12.7"
  }
 },
 "nbformat": 4,
 "nbformat_minor": 2
}
