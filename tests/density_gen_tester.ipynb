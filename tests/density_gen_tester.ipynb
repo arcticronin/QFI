{
 "cells": [
  {
   "cell_type": "code",
   "execution_count": 29,
   "metadata": {},
   "outputs": [
    {
     "data": {
      "text/plain": [
       "<module 'helper_functions' from '/home/ronin/Dev/space/QFI/helper_functions.py'>"
      ]
     },
     "execution_count": 29,
     "metadata": {},
     "output_type": "execute_result"
    }
   ],
   "source": [
    "import sys\n",
    "import os\n",
    "\n",
    "# Add the parent folder to sys.path\n",
    "sys.path.insert(0, os.path.abspath(os.path.join(os.getcwd(), '..')))\n",
    "\n",
    "import pandas as pd\n",
    "import density_generator\n",
    "import numpy as np\n",
    "import matplotlib.pyplot as plt\n",
    "import qutip\n",
    "import importlib\n",
    "import helper_functions\n",
    "from random import randint\n",
    "importlib.reload(density_generator)\n",
    "importlib.reload(helper_functions)"
   ]
  },
  {
   "cell_type": "code",
   "execution_count": 28,
   "metadata": {},
   "outputs": [
    {
     "data": {
      "text/plain": [
       "(32, 32)"
      ]
     },
     "execution_count": 28,
     "metadata": {},
     "output_type": "execute_result"
    }
   ],
   "source": [
    "v.shape"
   ]
  },
  {
   "cell_type": "code",
   "execution_count": 42,
   "metadata": {},
   "outputs": [
    {
     "name": "stdout",
     "output_type": "stream",
     "text": [
      "rho shape: (4096, 4096)\n",
      "trace_out_index: [11  9  1  5  7  8]\n",
      "Dimension of the Hilbert space: 64\n",
      "initial state type : <class 'str'>\n",
      "initial_state: 0\n",
      "Initial state: |0...0>\n",
      "purity: (0.000949487014206419-2.4721399370108648e-23j)\n",
      "Participation Ratio: 1053.2002913550111\n"
     ]
    }
   ],
   "source": [
    "N = 12\n",
    "n = 6\n",
    "ket = qutip.rand_unitary(2**N)[randint(0, N-1),:]\n",
    "rho = np.outer(ket, np.conj(ket))\n",
    "print(f\"rho shape: {rho.shape}\")\n",
    "\n",
    "trace_out_index= np.random.choice(range(N), size= N-n, replace=False)\n",
    "print(f\"trace_out_index: {trace_out_index}\")\n",
    "\n",
    "v = helper_functions.trace_out(\n",
    "    rho= rho,\n",
    "    trace_out_index= trace_out_index)\n",
    "a_x=1\n",
    "h_z=0.1\n",
    "delta=0.01\n",
    "m=1\n",
    "trace_out_index=[np.floor(n/2).astype(int)]\n",
    "trace_out_index=[0]\n",
    "derivative_delta=None\n",
    "model = density_generator.IsingQuantumState(\n",
    "        n=n, a_x=a_x, h_z=h_z, trace_out_index=trace_out_index, initial_matrix=v, DEBUG=True\n",
    "    )\n",
    "rho = model.generate_density_matrix()\n",
    "purity = np.trace(rho @ rho)\n",
    "participation_ratio = 1 / purity\n",
    "print(f\"purity: {purity}\")\n",
    "print(\"Participation Ratio:\", np.real(participation_ratio))"
   ]
  },
  {
   "cell_type": "code",
   "execution_count": 33,
   "metadata": {},
   "outputs": [
    {
     "name": "stdout",
     "output_type": "stream",
     "text": [
      "Participation Ratio: 1.0000000000000007\n"
     ]
    }
   ],
   "source": [
    "n=7\n",
    "a_x=1\n",
    "h_z=0.1\n",
    "delta=0.01\n",
    "m=1\n",
    "DEBUG=False\n",
    "trace_out_index=[np.floor(n/2).astype(int)]\n",
    "trace_out_index=[0]\n",
    "derivative_delta=None\n",
    "\n",
    "model = density_generator.IsingQuantumState(\n",
    "        n=n, a_x=a_x, h_z=h_z, trace_out_index=trace_out_index, initial_state=\"H\"\n",
    "    )\n",
    "rho = model.generate_density_matrix()\n",
    "purity = np.trace(rho @ rho)\n",
    "participation_ratio = 1 / purity\n",
    "\n",
    "print(\"Participation Ratio:\", np.real(participation_ratio))"
   ]
  },
  {
   "cell_type": "code",
   "execution_count": 10,
   "metadata": {},
   "outputs": [
    {
     "name": "stdout",
     "output_type": "stream",
     "text": [
      "Participation Ratio Mixed: 1.0001193421284884\n"
     ]
    }
   ],
   "source": [
    "rho, rho_delta = model.generate_mixed(delta=0)\n",
    "purity_mixed = np.trace(rho @ rho)\n",
    "participation_ratio_mixed = 1 / purity_mixed\n",
    "print(\"Participation Ratio Mixed:\", np.real(participation_ratio_mixed))"
   ]
  },
  {
   "cell_type": "code",
   "execution_count": 11,
   "metadata": {},
   "outputs": [
    {
     "data": {
      "text/plain": [
       "array([[0.02699745+1.45438649e-20j, 0.02349061-2.43702610e-03j,\n",
       "        0.02485671+4.20757027e-04j, ..., 0.01691437+6.15203578e-04j,\n",
       "        0.01786892+3.09724792e-03j, 0.01559426+1.50132272e-03j],\n",
       "       [0.02349061+2.43702610e-03j, 0.02065928-1.18931745e-19j,\n",
       "        0.02158996+2.60988712e-03j, ..., 0.01466175+2.06213118e-03j,\n",
       "        0.01526825+4.30793538e-03j, 0.01343312+2.71398230e-03j],\n",
       "       [0.02485671-4.20757027e-04j, 0.02158996-2.60988712e-03j,\n",
       "        0.02289228-1.82565166e-19j, ..., 0.01558275+3.02809819e-04j,\n",
       "        0.01650029+2.57316622e-03j, 0.01438112+1.13923914e-03j],\n",
       "       ...,\n",
       "       [0.01691437-6.15203578e-04j, 0.01466175-2.06213118e-03j,\n",
       "        0.01558275-3.02809819e-04j, ..., 0.01061358+8.57220503e-20j,\n",
       "        0.01126833+1.53364071e-03j, 0.00980651+5.85384033e-04j],\n",
       "       [0.01786892-3.09724792e-03j, 0.01526825-4.30793538e-03j,\n",
       "        0.01650029-2.57316622e-03j, ..., 0.01126833-1.53364071e-03j,\n",
       "        0.01218507-4.01040176e-20j, 0.01049606-7.95525018e-04j],\n",
       "       [0.01559426-1.50132272e-03j, 0.01343312-2.71398230e-03j,\n",
       "        0.01438112-1.13923914e-03j, ..., 0.00980651-5.85384033e-04j,\n",
       "        0.01049606+7.95525018e-04j, 0.0090931 +3.74519840e-20j]])"
      ]
     },
     "execution_count": 11,
     "metadata": {},
     "output_type": "execute_result"
    }
   ],
   "source": [
    "rho"
   ]
  },
  {
   "cell_type": "markdown",
   "metadata": {},
   "source": [
    "# Test loop for participation ratios"
   ]
  },
  {
   "cell_type": "code",
   "execution_count": 27,
   "metadata": {},
   "outputs": [
    {
     "name": "stdout",
     "output_type": "stream",
     "text": [
      "starting simulation with n=7\n",
      "Initial state: |0...0>\n"
     ]
    },
    {
     "name": "stdout",
     "output_type": "stream",
     "text": [
      "n = 7, trace_out = [0]\n",
      "initial state = 0\n",
      "mean    1.847899\n",
      "std     0.111177\n",
      "min     1.610152\n",
      "max     1.999926\n",
      "starting simulation with n=7\n",
      "Initial state: Hadamard state\n",
      "n = 7, trace_out = [0]\n",
      "initial state = H\n",
      "mean    1.093590\n",
      "std     0.130715\n",
      "min     1.000000\n",
      "max     1.438790\n",
      "starting simulation with n=7\n",
      "Initial state: |0...0>\n",
      "n = 7, trace_out = [1]\n",
      "initial state = 0\n",
      "mean    1.748564\n",
      "std     0.165356\n",
      "min     1.432821\n",
      "max     1.941702\n",
      "starting simulation with n=7\n",
      "Initial state: Hadamard state\n",
      "n = 7, trace_out = [1]\n",
      "initial state = H\n",
      "mean    1.157523\n",
      "std     0.165441\n",
      "min     1.000000\n",
      "max     1.519151\n",
      "starting simulation with n=7\n",
      "Initial state: |0...0>\n",
      "n = 7, trace_out = [3]\n",
      "initial state = 0\n",
      "mean    1.818545\n",
      "std     0.114858\n",
      "min     1.569649\n",
      "max     1.941715\n",
      "starting simulation with n=7\n",
      "Initial state: Hadamard state\n",
      "n = 7, trace_out = [3]\n",
      "initial state = H\n",
      "mean    1.117640\n",
      "std     0.140639\n",
      "min     1.000000\n",
      "max     1.441022\n",
      "starting simulation with n=8\n",
      "Initial state: |0...0>\n",
      "n = 8, trace_out = [0, 1]\n",
      "initial state = 0\n",
      "mean    1.874953\n",
      "std     0.118214\n",
      "min     1.704774\n",
      "max     2.038033\n",
      "starting simulation with n=8\n",
      "Initial state: Hadamard state\n",
      "n = 8, trace_out = [0, 1]\n",
      "initial state = H\n",
      "mean    1.071400\n",
      "std     0.095233\n",
      "min     1.000000\n",
      "max     1.327443\n",
      "starting simulation with n=8\n",
      "Initial state: |0...0>\n",
      "n = 8, trace_out = [0, 3]\n",
      "initial state = 0\n",
      "mean    3.164763\n",
      "std     0.402903\n",
      "min     2.212476\n",
      "max     3.528730\n",
      "starting simulation with n=8\n",
      "Initial state: Hadamard state\n",
      "n = 8, trace_out = [0, 3]\n",
      "initial state = H\n",
      "mean    1.260326\n",
      "std     0.289625\n",
      "min     1.000000\n",
      "max     2.011260\n",
      "starting simulation with n=8\n",
      "Initial state: |0...0>\n",
      "n = 8, trace_out = [3, 4]\n",
      "initial state = 0\n",
      "mean    2.657792\n",
      "std     0.241845\n",
      "min     2.169290\n",
      "max     2.906222\n",
      "starting simulation with n=8\n",
      "Initial state: Hadamard state\n",
      "n = 8, trace_out = [3, 4]\n",
      "initial state = H\n",
      "mean    1.170254\n",
      "std     0.182840\n",
      "min     1.000000\n",
      "max     1.672550\n",
      "starting simulation with n=9\n",
      "Initial state: |0...0>\n",
      "n = 9, trace_out = [0, 1, 2]\n",
      "initial state = 0\n",
      "mean    1.937651\n",
      "std     0.102584\n",
      "min     1.704994\n",
      "max     2.039736\n",
      "starting simulation with n=9\n",
      "Initial state: Hadamard state\n",
      "n = 9, trace_out = [0, 1, 2]\n",
      "initial state = H\n",
      "mean    1.077986\n",
      "std     0.087368\n",
      "min     1.000000\n",
      "max     1.314887\n",
      "starting simulation with n=9\n",
      "Initial state: |0...0>\n",
      "n = 9, trace_out = [0, 4, 8]\n",
      "initial state = 0\n",
      "mean    5.914139\n",
      "std     1.017855\n",
      "min     3.704338\n",
      "max     7.247581\n",
      "starting simulation with n=9\n",
      "Initial state: Hadamard state\n",
      "n = 9, trace_out = [0, 4, 8]\n",
      "initial state = H\n",
      "mean    1.361477\n",
      "std     0.541438\n",
      "min     1.000000\n",
      "max     2.912429\n",
      "starting simulation with n=9\n",
      "Initial state: |0...0>\n",
      "n = 9, trace_out = [2, 4, 6]\n",
      "initial state = 0\n",
      "mean    5.385246\n",
      "std     1.151828\n",
      "min     3.268938\n",
      "max     6.962739\n",
      "starting simulation with n=9\n",
      "Initial state: Hadamard state\n",
      "n = 9, trace_out = [2, 4, 6]\n",
      "initial state = H\n",
      "mean    1.391357\n",
      "std     0.515576\n",
      "min     1.000000\n",
      "max     2.559299\n"
     ]
    }
   ],
   "source": [
    "N = 100\n",
    "for trace_out_index in [[0], [1], [3], [0,1], [0,3], [3,4],[0,1,2], [0,4,8], [2,4,6]]:\n",
    "    for initial_state in [\"0\", \"H\"]: \n",
    "        pr = np.zeros(N)\n",
    "        for i in range(N): \n",
    "            n= 6 + len(trace_out_index)\n",
    "            a_x=1\n",
    "            h_z= np.random.rand()\n",
    "            if i == 0:\n",
    "                DEBUG=True\n",
    "                print(f\"starting simulation with n={n}\")\n",
    "            else:\n",
    "                DEBUG=False\n",
    "            model = density_generator.IsingQuantumState(\n",
    "                    n=n, a_x=a_x, h_z=h_z, trace_out_index=trace_out_index, initial_state=initial_state, DEBUG=DEBUG\n",
    "                )\n",
    "            rho, rho_delta = model.generate_mixed(delta=0)\n",
    "            purity_mixed = np.trace(rho @ rho)\n",
    "            participation_ratio_mixed = np.real(1 / purity_mixed)\n",
    "            pr[i] = participation_ratio_mixed\n",
    "        print(f\"n = {n}, trace_out = {trace_out_index}\")\n",
    "        print(f\"initial state = {initial_state}\")\n",
    "        print(pd.DataFrame(pr).describe()[0].iloc[[1,2,3,-1]].to_string())\n",
    "        \n",
    "        "
   ]
  },
  {
   "cell_type": "code",
   "execution_count": 31,
   "metadata": {},
   "outputs": [
    {
     "data": {
      "image/png": "[encoded data removed]",
      "text/plain": [
       "<Figure size 1000x500 with 1 Axes>"
      ]
     },
     "metadata": {},
     "output_type": "display_data"
    }
   ],
   "source": [
    "import matplotlib.pyplot as plt\n",
    "\n",
    "plt.figure(figsize=(10, 5))\n",
    "plt.bar(range(len(pr)), np.sort(pr)[::-1], color='skyblue', edgecolor='black')\n",
    "plt.xlabel('Index')\n",
    "plt.ylabel('Participation Ratio')\n",
    "plt.title(f'Participation Ratios using {n} qubits and tracing out {trace_out_index}')\n",
    "plt.grid(axis='y', linestyle='--', alpha=0.7)\n",
    "\n",
    "plt.show()"
   ]
  },
  {
   "cell_type": "code",
   "execution_count": 33,
   "metadata": {},
   "outputs": [
    {
     "name": "stdout",
     "output_type": "stream",
     "text": [
      "n = 7, trace_out = [0]\n",
      "initial state = 0\n"
     ]
    },
    {
     "data": {
      "text/plain": [
       "mean    1.100878\n",
       "std     0.132848\n",
       "min     1.000000\n",
       "25%     1.002676\n",
       "50%     1.028567\n",
       "75%     1.174991\n",
       "max     1.429560\n",
       "Name: 0, dtype: float64"
      ]
     },
     "execution_count": 33,
     "metadata": {},
     "output_type": "execute_result"
    }
   ],
   "source": [
    "import pandas as pd\n",
    "print(f\"n = {n}, trace_out = {trace_out_index}\")\n",
    "print(f\"initial state = {initial_state}\")\n",
    "pd.DataFrame(pr).describe()[0][1:]"
   ]
  },
  {
   "cell_type": "code",
   "execution_count": null,
   "metadata": {},
   "outputs": [],
   "source": [
    "### Initial State: |00...00>\n",
    "\n",
    "# n = 7, trace_out = [0]\n",
    "# mean    1.100878\n",
    "# std     0.132848\n",
    "# min     1.000000\n",
    "# 25%     1.002676\n",
    "# 50%     1.028567\n",
    "# 75%     1.174991\n",
    "# max     1.429560\n",
    "\n",
    "# n = 7, trace_out = [3]\n",
    "# mean    1.135951\n",
    "# std     0.146678\n",
    "# min     1.000000\n",
    "# 25%     1.009859\n",
    "# 50%     1.082022\n",
    "# 75%     1.242946\n",
    "# max     1.444121\n",
    "\n",
    "\n",
    "\n",
    "# n = 8, trace_out = [3, 4]\n",
    "# mean\t2.672627\n",
    "# std\t0.207467\n",
    "# min\t2.204517\n",
    "# 25%\t2.556989\n",
    "# 50%\t2.711379\n",
    "# 75%\t2.851802\n",
    "# max\t2.906242\n",
    "\n",
    "\n",
    "# initial state H\n",
    "# mean    1.121885\n",
    "# std     0.133401\n",
    "# min     1.000000\n",
    "# 25%     1.009676\n",
    "# 50%     1.075430\n",
    "# 75%     1.197070\n",
    "# max     1.441204"
   ]
  },
  {
   "cell_type": "code",
   "execution_count": 3,
   "metadata": {},
   "outputs": [],
   "source": [
    "import numpy as np\n",
    "\n",
    "n = 2 # Number of qubits\n",
    "dim = 2**n\n",
    "\n",
    "# Create full superposition state\n",
    "ket_plus_n = np.ones(dim, dtype=complex) / np.sqrt(dim)"
   ]
  },
  {
   "cell_type": "markdown",
   "metadata": {},
   "source": [
    "```\n",
    "starting simulation with n=7, a_x=1\n",
    "Initial state: |0...0>\n",
    "n = 7, trace_out = [0]\n",
    "initial state = 0\n",
    "mean    1.843195\n",
    "std     0.128271\n",
    "min     1.630669\n",
    "max     1.999823\n",
    "starting simulation with n=7, a_x=1\n",
    "Initial state: Hadamard state\n",
    "n = 7, trace_out = [0]\n",
    "initial state = H\n",
    "mean    1.130890\n",
    "std     0.153456\n",
    "min     1.000699\n",
    "max     1.415473\n",
    "starting simulation with n=7, a_x=1\n",
    "Initial state: |0...0>\n",
    "n = 7, trace_out = [1]\n",
    "initial state = 0\n",
    "mean    1.698045\n",
    "std     0.199671\n",
    "min     1.442247\n",
    "max     1.940088\n",
    "starting simulation with n=7, a_x=1\n",
    "Initial state: Hadamard state\n",
    "n = 7, trace_out = [1]\n",
    "initial state = H\n",
    "mean    1.074240\n",
    "std     0.087565\n",
    "min     1.000004\n",
    "max     1.283056\n",
    "starting simulation with n=7, a_x=1\n",
    "Initial state: |0...0>\n",
    "n = 7, trace_out = [3]\n",
    "initial state = 0\n",
    "mean    1.801866\n",
    "std     0.140048\n",
    "min     1.564258\n",
    "max     1.939320\n",
    "starting simulation with n=7, a_x=1\n",
    "Initial state: Hadamard state\n",
    "n = 7, trace_out = [3]\n",
    "initial state = H\n",
    "mean    1.126916\n",
    "std     0.169641\n",
    "min     1.000000\n",
    "max     1.442152\n",
    "starting simulation with n=8, a_x=1\n",
    "Initial state: |0...0>\n",
    "n = 8, trace_out = [0, 1]\n",
    "initial state = 0\n",
    "mean    1.864193\n",
    "std     0.136006\n",
    "min     1.704774\n",
    "max     2.027431\n",
    "starting simulation with n=8, a_x=1\n",
    "Initial state: Hadamard state\n",
    "n = 8, trace_out = [0, 1]\n",
    "initial state = H\n",
    "mean    1.116531\n",
    "std     0.095642\n",
    "min     1.000035\n",
    "max     1.234871\n",
    "starting simulation with n=8, a_x=1\n",
    "Initial state: |0...0>\n",
    "n = 8, trace_out = [0, 3]\n",
    "initial state = 0\n",
    "mean    3.074710\n",
    "std     0.459084\n",
    "min     2.242458\n",
    "max     3.507650\n",
    "starting simulation with n=8, a_x=1\n",
    "Initial state: Hadamard state\n",
    "n = 8, trace_out = [0, 3]\n",
    "initial state = H\n",
    "mean    1.210555\n",
    "std     0.315920\n",
    "min     1.000068\n",
    "max     2.019612\n",
    "starting simulation with n=8, a_x=1\n",
    "Initial state: |0...0>\n",
    "n = 8, trace_out = [3, 4]\n",
    "initial state = 0\n",
    "mean    2.520965\n",
    "std     0.282369\n",
    "min     2.186249\n",
    "max     2.881489\n",
    "starting simulation with n=8, a_x=1\n",
    "Initial state: Hadamard state\n",
    "n = 8, trace_out = [3, 4]\n",
    "initial state = H\n",
    "mean    1.179927\n",
    "std     0.180738\n",
    "min     1.002716\n",
    "max     1.495863\n",
    "```"
   ]
  },
  {
   "cell_type": "code",
   "execution_count": null,
   "metadata": {},
   "outputs": [
    {
     "name": "stdout",
     "output_type": "stream",
     "text": [
      "mean    1.179927\n",
      "std     0.180738\n",
      "min     1.002716\n",
      "max     1.495863\n"
     ]
    }
   ],
   "source": []
  },
  {
   "cell_type": "code",
   "execution_count": null,
   "metadata": {},
   "outputs": [],
   "source": []
  }
 ],
 "metadata": {
  "kernelspec": {
   "display_name": "space",
   "language": "python",
   "name": "python3"
  },
  "language_info": {
   "codemirror_mode": {
    "name": "ipython",
    "version": 3
   },
   "file_extension": ".py",
   "mimetype": "text/x-python",
   "name": "python",
   "nbconvert_exporter": "python",
   "pygments_lexer": "ipython3",
   "version": "3.12.7"
  }
 },
 "nbformat": 4,
 "nbformat_minor": 2
}
