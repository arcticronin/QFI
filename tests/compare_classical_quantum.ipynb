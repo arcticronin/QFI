{
 "cells": [
  {
   "cell_type": "code",
   "execution_count": 23,
   "metadata": {},
   "outputs": [
    {
     "data": {
      "text/plain": [
       "<module 'quantum_subroutines_pennylane' from '/home/ronin/Dev/space/QFI/quantum_subroutines_pennylane.py'>"
      ]
     },
     "execution_count": 23,
     "metadata": {},
     "output_type": "execute_result"
    }
   ],
   "source": [
    "import sys\n",
    "import os\n",
    "import numpy as np\n",
    "import time\n",
    "# Add the parent folder to sys.path\n",
    "sys.path.insert(0, os.path.abspath(os.path.join(os.getcwd(), '..')))\n",
    "\n",
    "import pandas as pd\n",
    "import density_generator\n",
    "import numpy as np\n",
    "import matplotlib.pyplot as plt\n",
    "import qutip\n",
    "import importlib\n",
    "import helper_functions\n",
    "import quantum_subroutines_pennylane\n",
    "\n",
    "from random import randint\n",
    "importlib.reload(density_generator)\n",
    "importlib.reload(helper_functions)\n",
    "importlib.reload(quantum_subroutines_pennylane)"
   ]
  },
  {
   "cell_type": "code",
   "execution_count": 24,
   "metadata": {},
   "outputs": [
    {
     "name": "stdout",
     "output_type": "stream",
     "text": [
      "Subfidelity E(rho, rho_delta) = 0.6999999999999995\n",
      "Superfidelity R(rho, rho_delta) = 0.7000000000000002\n",
      "Lower bound on fidelity = 0.8366600265340752\n",
      "Upper bound on fidelity = 0.8366600265340757\n",
      "Approx. Lower bound on QFI = 130.67197877273944\n",
      "Approx. Upper bound on QFI = 130.6719787727398\n"
     ]
    }
   ],
   "source": [
    "def example_demo():\n",
    "    \"\"\"\n",
    "    Demonstration: \n",
    "    We'll pick n_qubits=1 for simplicity, \n",
    "    define two small density matrices for rho, rho_delta, \n",
    "    measure sub/super fidelities, and compute \n",
    "    approximate QFI bounds for a small delta=0.1.\n",
    "    \"\"\"\n",
    "    n_qubits = 1\n",
    "\n",
    "    # Example: a pure state for rho\n",
    "    psi = np.array([1.0, 0.0])\n",
    "    rho = np.outer(psi, psi)\n",
    "\n",
    "    # Another pure state for rho_delta\n",
    "    phi = np.array([np.sqrt(0.7), np.sqrt(0.3)])\n",
    "    rho_delta = np.outer(phi, phi)\n",
    "\n",
    "    # Measure sub- and super-fidelity\n",
    "    E_val, R_val = quantum_subroutines_pennylane.measure_sub_super_fidelity(n_qubits, rho, rho_delta)\n",
    "    print(\"Subfidelity E(rho, rho_delta) =\", E_val)\n",
    "    print(\"Superfidelity R(rho, rho_delta) =\", R_val)\n",
    "\n",
    "    # Bounds on the standard fidelity: sqrt(E) <= F <= sqrt(R).\n",
    "    F_lower = np.sqrt(E_val)\n",
    "    F_upper = np.sqrt(R_val)\n",
    "    print(\"Lower bound on fidelity =\", F_lower)\n",
    "    print(\"Upper bound on fidelity =\", F_upper)\n",
    "\n",
    "    # For small parameter shift delta, eq. (3) in the paper gives:\n",
    "    #   I_delta(rho) = (8 / delta^2)*(1 - F(rho, rho_delta)).\n",
    "    # So using the sub- and super-fidelity as bounds on F,\n",
    "    # we get bounds on the QFI:\n",
    "    delta = 0.1\n",
    "    I_lower = (8.0 / delta**2)*(1.0 - F_upper)\n",
    "    I_upper = (8.0 / delta**2)*(1.0 - F_lower)\n",
    "    print(\"Approx. Lower bound on QFI =\", I_lower)\n",
    "    print(\"Approx. Upper bound on QFI =\", I_upper)\n",
    "\n",
    "\n",
    "if __name__ == \"__main__\":\n",
    "    example_demo()"
   ]
  },
  {
   "cell_type": "code",
   "execution_count": null,
   "metadata": {},
   "outputs": [],
   "source": []
  }
 ],
 "metadata": {
  "kernelspec": {
   "display_name": "space",
   "language": "python",
   "name": "python3"
  },
  "language_info": {
   "codemirror_mode": {
    "name": "ipython",
    "version": 3
   },
   "file_extension": ".py",
   "mimetype": "text/x-python",
   "name": "python",
   "nbconvert_exporter": "python",
   "pygments_lexer": "ipython3",
   "version": "3.12.7"
  }
 },
 "nbformat": 4,
 "nbformat_minor": 2
}
